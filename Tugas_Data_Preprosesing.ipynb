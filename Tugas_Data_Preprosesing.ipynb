{
  "nbformat": 4,
  "nbformat_minor": 0,
  "metadata": {
    "colab": {
      "name": "Tugas Data Preprosesing.ipynb",
      "provenance": [],
      "toc_visible": true
    },
    "kernelspec": {
      "name": "python3",
      "display_name": "Python 3"
    },
    "language_info": {
      "name": "python"
    }
  },
  "cells": [
    {
      "cell_type": "code",
      "metadata": {
        "id": "tpCMhB1G07cx"
      },
      "source": [
        "import numpy as np\n",
        "import matplotlib.pyplot as plt\n",
        "import pandas as pd"
      ],
      "execution_count": 99,
      "outputs": []
    },
    {
      "cell_type": "code",
      "metadata": {
        "id": "DnMg8JUY9f_s"
      },
      "source": [
        "dataset = pd.read_csv('Dataku.csv')\n",
        "x = dataset.iloc[:, :-1].values\n",
        "y = dataset.iloc[:, -1].values"
      ],
      "execution_count": 100,
      "outputs": []
    },
    {
      "cell_type": "code",
      "metadata": {
        "colab": {
          "base_uri": "https://localhost:8080/"
        },
        "id": "BnoYeFhO9iEh",
        "outputId": "47948b74-3e82-41c1-d175-5391f5e2a915"
      },
      "source": [
        "print(x)"
      ],
      "execution_count": 101,
      "outputs": [
        {
          "output_type": "stream",
          "text": [
            "[['Taman Impian Jaya Ancol' 100.0 80000.0]\n",
            " ['Taman Mini Indonesia Indah' 80.0 50000.0]\n",
            " ['Taman Margasatwa Ragunan' 85.0 60000.0]\n",
            " ['Taman Impian Jaya Ancol' 90.0 72000.0]\n",
            " ['Taman Mini Indonesia Indah' 110.0 52000.0]\n",
            " ['Taman Margasatwa Ragunan' 94.0 nan]\n",
            " ['Taman Impian Jaya Ancol' nan 90000.0]\n",
            " ['Taman Mini Indonesia Indah' 75.0 81000.0]\n",
            " ['Taman Margasatwa Ragunan' 120.0 74000.0]\n",
            " ['Taman Impian Jaya Ancol' 150.0 88000.0]]\n"
          ],
          "name": "stdout"
        }
      ]
    },
    {
      "cell_type": "code",
      "metadata": {
        "colab": {
          "base_uri": "https://localhost:8080/"
        },
        "id": "ZJOMVjm89msb",
        "outputId": "a2c03768-fd9d-4b8d-b893-e8969af7b7de"
      },
      "source": [
        "print(y)"
      ],
      "execution_count": 102,
      "outputs": [
        {
          "output_type": "stream",
          "text": [
            "[71688. 36977.  6109.     0.   105.    nan   769.    80.   269.   237.]\n"
          ],
          "name": "stdout"
        }
      ]
    },
    {
      "cell_type": "code",
      "metadata": {
        "id": "Og4wSdyy9pcO"
      },
      "source": [
        "from sklearn.impute import SimpleImputer\n",
        "imputer = SimpleImputer(missing_values=np.nan, strategy='mean')\n",
        "imputer.fit(x[:, 1:3])\n",
        "x[:, 1:3] = imputer.transform(x[:, 1:3])"
      ],
      "execution_count": 103,
      "outputs": []
    },
    {
      "cell_type": "code",
      "metadata": {
        "colab": {
          "base_uri": "https://localhost:8080/"
        },
        "id": "-eHOinPT9vh0",
        "outputId": "aa9b0727-e613-4fea-cbdf-bea055e47692"
      },
      "source": [
        "print(x)"
      ],
      "execution_count": 104,
      "outputs": [
        {
          "output_type": "stream",
          "text": [
            "[['Taman Impian Jaya Ancol' 100.0 80000.0]\n",
            " ['Taman Mini Indonesia Indah' 80.0 50000.0]\n",
            " ['Taman Margasatwa Ragunan' 85.0 60000.0]\n",
            " ['Taman Impian Jaya Ancol' 90.0 72000.0]\n",
            " ['Taman Mini Indonesia Indah' 110.0 52000.0]\n",
            " ['Taman Margasatwa Ragunan' 94.0 71888.88888888889]\n",
            " ['Taman Impian Jaya Ancol' 100.44444444444444 90000.0]\n",
            " ['Taman Mini Indonesia Indah' 75.0 81000.0]\n",
            " ['Taman Margasatwa Ragunan' 120.0 74000.0]\n",
            " ['Taman Impian Jaya Ancol' 150.0 88000.0]]\n"
          ],
          "name": "stdout"
        }
      ]
    },
    {
      "cell_type": "code",
      "metadata": {
        "id": "uw70pYPk-ktw"
      },
      "source": [
        "from sklearn.compose import ColumnTransformer\n",
        "from sklearn.preprocessing import OneHotEncoder\n",
        "ct = ColumnTransformer(transformers=[('encoder', OneHotEncoder(), [0])], remainder='passthrough')\n",
        "x = np.array(ct.fit_transform(x))"
      ],
      "execution_count": 105,
      "outputs": []
    },
    {
      "cell_type": "code",
      "metadata": {
        "colab": {
          "base_uri": "https://localhost:8080/"
        },
        "id": "88TBzskm-nCc",
        "outputId": "7c5866dc-d70a-44d0-ddad-26e96d8054c0"
      },
      "source": [
        "print(x)"
      ],
      "execution_count": 106,
      "outputs": [
        {
          "output_type": "stream",
          "text": [
            "[[1.0 0.0 0.0 100.0 80000.0]\n",
            " [0.0 0.0 1.0 80.0 50000.0]\n",
            " [0.0 1.0 0.0 85.0 60000.0]\n",
            " [1.0 0.0 0.0 90.0 72000.0]\n",
            " [0.0 0.0 1.0 110.0 52000.0]\n",
            " [0.0 1.0 0.0 94.0 71888.88888888889]\n",
            " [1.0 0.0 0.0 100.44444444444444 90000.0]\n",
            " [0.0 0.0 1.0 75.0 81000.0]\n",
            " [0.0 1.0 0.0 120.0 74000.0]\n",
            " [1.0 0.0 0.0 150.0 88000.0]]\n"
          ],
          "name": "stdout"
        }
      ]
    },
    {
      "cell_type": "code",
      "metadata": {
        "id": "sx4VwRbfFBZD"
      },
      "source": [
        "from sklearn.preprocessing import LabelEncoder\n",
        "le = LabelEncoder()\n",
        "y = le.fit_transform(y)"
      ],
      "execution_count": 107,
      "outputs": []
    },
    {
      "cell_type": "code",
      "metadata": {
        "colab": {
          "base_uri": "https://localhost:8080/"
        },
        "id": "zkw36RCTFIew",
        "outputId": "fc5dcb1d-3265-4625-ebdf-c75fa965a0b8"
      },
      "source": [
        "print(y)"
      ],
      "execution_count": 108,
      "outputs": [
        {
          "output_type": "stream",
          "text": [
            "[8 7 6 0 2 9 5 1 4 3]\n"
          ],
          "name": "stdout"
        }
      ]
    },
    {
      "cell_type": "code",
      "metadata": {
        "id": "409edQk2Fjhg"
      },
      "source": [
        "from sklearn.model_selection import train_test_split\n",
        "x_train, x_test, y_train, y_test = train_test_split(x, y, test_size=0.2, random_state = 1)"
      ],
      "execution_count": 109,
      "outputs": []
    },
    {
      "cell_type": "code",
      "metadata": {
        "colab": {
          "base_uri": "https://localhost:8080/"
        },
        "id": "bLt6GsXjFk0R",
        "outputId": "66927dd1-1ee5-4ef8-ce31-1e3ac9ef761a"
      },
      "source": [
        "print(x_train)"
      ],
      "execution_count": 110,
      "outputs": [
        {
          "output_type": "stream",
          "text": [
            "[[1.0 0.0 0.0 100.44444444444444 90000.0]\n",
            " [0.0 0.0 1.0 110.0 52000.0]\n",
            " [1.0 0.0 0.0 100.0 80000.0]\n",
            " [1.0 0.0 0.0 90.0 72000.0]\n",
            " [0.0 0.0 1.0 80.0 50000.0]\n",
            " [0.0 0.0 1.0 75.0 81000.0]\n",
            " [0.0 1.0 0.0 120.0 74000.0]\n",
            " [0.0 1.0 0.0 94.0 71888.88888888889]]\n"
          ],
          "name": "stdout"
        }
      ]
    },
    {
      "cell_type": "code",
      "metadata": {
        "colab": {
          "base_uri": "https://localhost:8080/"
        },
        "id": "jnXDlz4vFsPS",
        "outputId": "62470129-bb80-4e6f-f231-b819035366ec"
      },
      "source": [
        "print(x_test)"
      ],
      "execution_count": 111,
      "outputs": [
        {
          "output_type": "stream",
          "text": [
            "[[0.0 1.0 0.0 85.0 60000.0]\n",
            " [1.0 0.0 0.0 150.0 88000.0]]\n"
          ],
          "name": "stdout"
        }
      ]
    },
    {
      "cell_type": "code",
      "metadata": {
        "colab": {
          "base_uri": "https://localhost:8080/"
        },
        "id": "oBEPm-7dGInz",
        "outputId": "acdd9167-8424-4ab8-ae78-073898544453"
      },
      "source": [
        "print(y_train)"
      ],
      "execution_count": 112,
      "outputs": [
        {
          "output_type": "stream",
          "text": [
            "[5 2 8 0 7 1 4 9]\n"
          ],
          "name": "stdout"
        }
      ]
    },
    {
      "cell_type": "code",
      "metadata": {
        "colab": {
          "base_uri": "https://localhost:8080/"
        },
        "id": "gHM9dU0oGMIW",
        "outputId": "f4eec415-9c7a-4350-9fff-ccbf55819dae"
      },
      "source": [
        "print(y_test)"
      ],
      "execution_count": 113,
      "outputs": [
        {
          "output_type": "stream",
          "text": [
            "[6 3]\n"
          ],
          "name": "stdout"
        }
      ]
    },
    {
      "cell_type": "code",
      "metadata": {
        "id": "2iVgcr9AGPUI"
      },
      "source": [
        "from sklearn.preprocessing import StandardScaler\n",
        "sc = StandardScaler()\n",
        "x_train[:, 4:] = sc.fit_transform(x_train[:, 4:])\n",
        "x_test[:, 4:] = sc.transform(x_test[:, 4:])"
      ],
      "execution_count": 114,
      "outputs": []
    },
    {
      "cell_type": "code",
      "metadata": {
        "colab": {
          "base_uri": "https://localhost:8080/"
        },
        "id": "gIChxvQ5Gxr9",
        "outputId": "cc618bee-4777-468a-edbc-0b4705dc9dad"
      },
      "source": [
        "print(x_train)"
      ],
      "execution_count": 115,
      "outputs": [
        {
          "output_type": "stream",
          "text": [
            "[[1.0 0.0 0.0 100.44444444444444 1.4328353023153841]\n",
            " [0.0 0.0 1.0 110.0 -1.488355001063819]\n",
            " [1.0 0.0 0.0 100.0 0.6641010119524359]\n",
            " [1.0 0.0 0.0 90.0 0.04911357966207737]\n",
            " [0.0 0.0 1.0 80.0 -1.6421018591364087]\n",
            " [0.0 0.0 1.0 75.0 0.7409744409887308]\n",
            " [0.0 1.0 0.0 120.0 0.202860437734667]\n",
            " [0.0 1.0 0.0 94.0 0.04057208754693362]]\n"
          ],
          "name": "stdout"
        }
      ]
    },
    {
      "cell_type": "code",
      "metadata": {
        "colab": {
          "base_uri": "https://localhost:8080/"
        },
        "id": "r5vw0TCaG0Yp",
        "outputId": "52422d47-8cbf-4c5d-ced6-fe76d1c10b9f"
      },
      "source": [
        "print(x_test)"
      ],
      "execution_count": 116,
      "outputs": [
        {
          "output_type": "stream",
          "text": [
            "[[0.0 1.0 0.0 85.0 -0.8733675687734604]\n",
            " [1.0 0.0 0.0 150.0 1.2790884442427946]]\n"
          ],
          "name": "stdout"
        }
      ]
    }
  ]
}